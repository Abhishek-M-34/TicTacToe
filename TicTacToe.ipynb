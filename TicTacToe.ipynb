{
 "cells": [
  {
   "cell_type": "code",
   "execution_count": 1,
   "id": "c0f3583a-8685-404a-86f1-8a669a270865",
   "metadata": {},
   "outputs": [
    {
     "name": "stdout",
     "output_type": "stream",
     "text": [
      "Welcome to Tic Tac Toe\n"
     ]
    },
    {
     "name": "stdin",
     "output_type": "stream",
     "text": [
      "Enter the team of player 1 (X/O):  x\n"
     ]
    },
    {
     "name": "stdout",
     "output_type": "stream",
     "text": [
      "Player1 chose X and Player2 chose O\n",
      "   |   |   \n",
      "---+---+---\n",
      "   |   |   \n",
      "---+---+---\n",
      "   |   |   \n"
     ]
    },
    {
     "name": "stdin",
     "output_type": "stream",
     "text": [
      "X's turn. Enter position (1-9):  1\n"
     ]
    },
    {
     "name": "stdout",
     "output_type": "stream",
     "text": [
      " X |   |   \n",
      "---+---+---\n",
      "   |   |   \n",
      "---+---+---\n",
      "   |   |   \n"
     ]
    },
    {
     "name": "stdin",
     "output_type": "stream",
     "text": [
      "O's turn. Enter position (1-9):  5\n"
     ]
    },
    {
     "name": "stdout",
     "output_type": "stream",
     "text": [
      " X |   |   \n",
      "---+---+---\n",
      "   | O |   \n",
      "---+---+---\n",
      "   |   |   \n"
     ]
    },
    {
     "name": "stdin",
     "output_type": "stream",
     "text": [
      "X's turn. Enter position (1-9):  3\n"
     ]
    },
    {
     "name": "stdout",
     "output_type": "stream",
     "text": [
      " X |   | X \n",
      "---+---+---\n",
      "   | O |   \n",
      "---+---+---\n",
      "   |   |   \n"
     ]
    },
    {
     "name": "stdin",
     "output_type": "stream",
     "text": [
      "O's turn. Enter position (1-9):  2\n"
     ]
    },
    {
     "name": "stdout",
     "output_type": "stream",
     "text": [
      " X | O | X \n",
      "---+---+---\n",
      "   | O |   \n",
      "---+---+---\n",
      "   |   |   \n"
     ]
    },
    {
     "name": "stdin",
     "output_type": "stream",
     "text": [
      "X's turn. Enter position (1-9):  8\n"
     ]
    },
    {
     "name": "stdout",
     "output_type": "stream",
     "text": [
      " X | O | X \n",
      "---+---+---\n",
      "   | O |   \n",
      "---+---+---\n",
      "   | X |   \n"
     ]
    },
    {
     "name": "stdin",
     "output_type": "stream",
     "text": [
      "O's turn. Enter position (1-9):  4\n"
     ]
    },
    {
     "name": "stdout",
     "output_type": "stream",
     "text": [
      " X | O | X \n",
      "---+---+---\n",
      " O | O |   \n",
      "---+---+---\n",
      "   | X |   \n"
     ]
    },
    {
     "name": "stdin",
     "output_type": "stream",
     "text": [
      "X's turn. Enter position (1-9):  5\n"
     ]
    },
    {
     "name": "stdout",
     "output_type": "stream",
     "text": [
      "Invalid or occupied position. Try again.\n"
     ]
    },
    {
     "name": "stdin",
     "output_type": "stream",
     "text": [
      "X's turn. Enter position (1-9):  6\n"
     ]
    },
    {
     "name": "stdout",
     "output_type": "stream",
     "text": [
      " X | O | X \n",
      "---+---+---\n",
      " O | O | X \n",
      "---+---+---\n",
      "   | X |   \n"
     ]
    },
    {
     "name": "stdin",
     "output_type": "stream",
     "text": [
      "O's turn. Enter position (1-9):  9\n"
     ]
    },
    {
     "name": "stdout",
     "output_type": "stream",
     "text": [
      " X | O | X \n",
      "---+---+---\n",
      " O | O | X \n",
      "---+---+---\n",
      "   | X | O \n"
     ]
    },
    {
     "name": "stdin",
     "output_type": "stream",
     "text": [
      "X's turn. Enter position (1-9):  7\n"
     ]
    },
    {
     "name": "stdout",
     "output_type": "stream",
     "text": [
      " X | O | X \n",
      "---+---+---\n",
      " O | O | X \n",
      "---+---+---\n",
      " X | X | O \n",
      "It's a draw!\n"
     ]
    }
   ],
   "source": [
    "###### 1. take player team\n",
    "#2. draw board\n",
    "#3. make game logic\n",
    "#4. make a code for win\n",
    "#5. code for turns\n",
    "#6. handle a turn\n",
    "#7. MAIN : loop the game logic for maximum of 9 times \n",
    "\n",
    "\n",
    "\n",
    "print(\"Welcome to Tic Tac Toe\")\n",
    "\n",
    "# Taking the players' team\n",
    "player1 = input(\"Enter the team of player 1 (X/O): \").upper()\n",
    "\n",
    "teams=[\"X\",\"O\"]\n",
    "while player1 not in teams:\n",
    "    player1 = input(\"Invalid input, Enter X or O only: \").upper()\n",
    "\n",
    "if player1 == \"X\":\n",
    "    player2 = \"O\"\n",
    "else:\n",
    "    player2 = \"X\"\n",
    "print(f'Player1 chose {player1} and Player2 chose {player2}')\n",
    "\n",
    "\n",
    "# Draw the board\n",
    "board = [\"   \"] * 9\n",
    "def draw_board():\n",
    "    print(f\"{board[0]}|{board[1]}|{board[2]}\")\n",
    "    print(\"---+---+---\")\n",
    "    print(f\"{board[3]}|{board[4]}|{board[5]}\")\n",
    "    print(\"---+---+---\")\n",
    "    print(f\"{board[6]}|{board[7]}|{board[8]}\")\n",
    "\n",
    "# Check for a win\n",
    "def check_win():\n",
    "    win_pos = [\n",
    "        # horizontal\n",
    "        [0, 1, 2],[3, 4, 5],[6, 7, 8],  \n",
    "        # vertical\n",
    "        [0, 3, 6],[1, 4, 7],[2, 5, 8],\n",
    "        # diagonal\n",
    "        [0, 4, 8],[2, 4, 6]              \n",
    "    ]\n",
    "    for pos in win_pos:\n",
    "        if board[pos[0]] == board[pos[1]] == board[pos[2]] != \"   \":\n",
    "            return board[0].strip()  # Return \"X\" or \"O\" \n",
    "    return None\n",
    "\n",
    "# Handle a turn\n",
    "def make_turn(team):\n",
    "    while True:\n",
    "        pos = int(input(f\"{team}'s turn. Enter position (1-9): \")) - 1\n",
    "        if pos >= 0 and pos < 9:\n",
    "            if  board[pos] == \"   \":\n",
    "                board[pos] = f\" {team} \"\n",
    "                break\n",
    "            else:\n",
    "                print(\"Invalid or occupied position. Try again.\")\n",
    "        else: \n",
    "            print(\"Please enter a valid number between 1 and 9.\")\n",
    "\n",
    "# Main game loop\n",
    "for turn in range(9):\n",
    "    draw_board()\n",
    "    current_team = player1 \n",
    "    if turn % 2 == 0:\n",
    "        current_team = player1 \n",
    "    else:\n",
    "        current_team = player2\n",
    "    make_turn(current_team)\n",
    "    winner = check_win()\n",
    "    if winner:\n",
    "        draw_board()\n",
    "        if winner == player1:\n",
    "            print(f\"Player 1 ({player1}) wins!\")\n",
    "        else:\n",
    "            print(f\"Player 2 ({player2}) wins!\")\n",
    "        break\n",
    "else:\n",
    "    draw_board()\n",
    "    print(\"It's a draw!\")\n"
   ]
  },
  {
   "cell_type": "code",
   "execution_count": null,
   "id": "254aed8c-bac0-45e4-b4e0-bce3ac80a524",
   "metadata": {},
   "outputs": [],
   "source": []
  }
 ],
 "metadata": {
  "kernelspec": {
   "display_name": "Python [conda env:base] *",
   "language": "python",
   "name": "conda-base-py"
  },
  "language_info": {
   "codemirror_mode": {
    "name": "ipython",
    "version": 3
   },
   "file_extension": ".py",
   "mimetype": "text/x-python",
   "name": "python",
   "nbconvert_exporter": "python",
   "pygments_lexer": "ipython3",
   "version": "3.12.7"
  }
 },
 "nbformat": 4,
 "nbformat_minor": 5
}
